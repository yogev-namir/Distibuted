{
 "cells": [
  {
   "cell_type": "code",
   "execution_count": 58,
   "metadata": {
    "collapsed": true
   },
   "outputs": [
    {
     "name": "stdout",
     "output_type": "stream",
     "text": [
      "Overwriting mr_most_viewd_program.py\n"
     ]
    }
   ],
   "source": [
    "%%file mr_most_viewd_program.py\n",
    "\n",
    "from mrjob.job import MRJob\n",
    "from mrjob.step import MRStep\n",
    "import re\n",
    "\n",
    "PROGRAM_RE = re.compile(r'[a-zA-Z0-9]+$')\n",
    "\n",
    "class MRMostViewdProgram(MRJob):\n",
    "    def steps(self):\n",
    "        return [\n",
    "            MRStep(mapper=self.mapper_split)\n",
    "        ]\n",
    "\n",
    "\n",
    "    def mapper_get_prog(self, _,line):\n",
    "        popular_genres = ['Talk', 'Politics', 'Spanish', 'Community', 'Martial arts']\n",
    "\n",
    "        cols = line.strip().split(',')\n",
    "        title,genres,air_time = cols[1], cols[2:-3], cols[-2]\n",
    "        #cleaning the genres from \"\n",
    "        cleaned_list = []\n",
    "        for s in genres:\n",
    "            cleaned_list.append(re.sub(r'^\"|\"$', '', s))\n",
    "        genres = cleaned_list\n",
    "\n",
    "        if 70000 <= int(air_time) < 90000:\n",
    "            if set(genres).intersection(set(popular_genres)) :\n",
    "                yield prog_code, 1\n",
    "\n",
    "\n",
    "    def combiner_count_prog(self, prog, counts):\n",
    "        # sum the program code we've seen so far\n",
    "        yield (prog, sum(counts))\n",
    "\n",
    "    def reducer_count_prog(selfself, prog, counts):\n",
    "        yield None, (sum(counts), prog)\n",
    "\n",
    "    def reduce_find_max_prog(self, _, prog_count_pairs):\n",
    "        yield max(prog_count_pairs)\n",
    "\n",
    "if __name__ == '__main__':\n",
    "    MRMostViewdProgram.run()"
   ]
  },
  {
   "cell_type": "code",
   "execution_count": 59,
   "outputs": [
    {
     "name": "stderr",
     "output_type": "stream",
     "text": [
      "No configs found; falling back on auto-configuration\n",
      "No configs specified for inline runner\n",
      "Creating temp directory C:\\Users\\yogev\\AppData\\Local\\Temp\\mr_most_viewd_program.yogev.20230507.120759.164847\n",
      "Running step 1 of 1...\n",
      "job output is in C:\\Users\\yogev\\AppData\\Local\\Temp\\mr_most_viewd_program.yogev.20230507.120759.164847\\output\n",
      "Streaming final output from C:\\Users\\yogev\\AppData\\Local\\Temp\\mr_most_viewd_program.yogev.20230507.120759.164847\\output...\n",
      "Removing temp directory C:\\Users\\yogev\\AppData\\Local\\Temp\\mr_most_viewd_program.yogev.20230507.120759.164847...\n",
      "IOPub data rate exceeded.\n",
      "The notebook server will temporarily stop sending output\n",
      "to the client in order to avoid crashing it.\n",
      "To change this limit, set the config variable\n",
      "`--NotebookApp.iopub_data_rate_limit`.\n",
      "\n",
      "Current values:\n",
      "NotebookApp.iopub_data_rate_limit=1000000.0 (bytes/sec)\n",
      "NotebookApp.rate_limit_window=3.0 (secs)\n",
      "\n"
     ]
    }
   ],
   "source": [
    "! python mr_most_viewd_program.py 500k_daily_prog_data.csv > output_hw1.txt\n",
    "output = open('output_hw1.txt')\n",
    "for line in output:\n",
    "    print(line)"
   ],
   "metadata": {
    "collapsed": false
   }
  },
  {
   "cell_type": "code",
   "execution_count": 55,
   "outputs": [],
   "source": [],
   "metadata": {
    "collapsed": false
   }
  }
 ],
 "metadata": {
  "kernelspec": {
   "display_name": "Python 3",
   "language": "python",
   "name": "python3"
  },
  "language_info": {
   "codemirror_mode": {
    "name": "ipython",
    "version": 2
   },
   "file_extension": ".py",
   "mimetype": "text/x-python",
   "name": "python",
   "nbconvert_exporter": "python",
   "pygments_lexer": "ipython2",
   "version": "2.7.6"
  }
 },
 "nbformat": 4,
 "nbformat_minor": 0
}
