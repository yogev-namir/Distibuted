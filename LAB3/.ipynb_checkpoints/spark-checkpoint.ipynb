{
 "cells": [
  {
   "cell_type": "code",
   "execution_count": 11,
   "metadata": {},
   "outputs": [
    {
     "data": {
      "text/html": [
       "\n",
       "        <div>\n",
       "            <p><b>SparkContext</b></p>\n",
       "\n",
       "            <p><a href=\"http://DESKTOP-ALFRKTH.lan:4040\">Spark UI</a></p>\n",
       "\n",
       "            <dl>\n",
       "              <dt>Version</dt>\n",
       "                <dd><code>v3.2.1</code></dd>\n",
       "              <dt>Master</dt>\n",
       "                <dd><code>local[*]</code></dd>\n",
       "              <dt>AppName</dt>\n",
       "                <dd><code>demo</code></dd>\n",
       "            </dl>\n",
       "        </div>\n",
       "        "
      ],
      "text/plain": [
       "<SparkContext master=local[*] appName=demo>"
      ]
     },
     "execution_count": 11,
     "metadata": {},
     "output_type": "execute_result"
    }
   ],
   "source": [
    "import os\n",
    "import pyspark\n",
    "import findspark\n",
    "findspark.init()\n",
    "from pyspark.sql import SparkSession\n",
    "\n",
    "def init_spark(app_name: str):\n",
    "  spark = SparkSession.builder.appName(app_name).getOrCreate()\n",
    "  sc = spark.sparkContext\n",
    "  return spark, sc\n",
    "\n",
    "spark, sc = init_spark('demo')\n",
    "sc"
   ]
  },
  {
   "cell_type": "code",
   "execution_count": 12,
   "metadata": {},
   "outputs": [
    {
     "name": "stdout",
     "output_type": "stream",
     "text": [
      "Type: <class 'pyspark.rdd.RDD'>\n",
      "Count (rows): 1048576\n"
     ]
    }
   ],
   "source": [
    "data_file = 'Lab3_view_data.csv'\n",
    "view_rdd = sc.textFile(data_file)\n",
    "print('Type:', type(view_rdd))\n",
    "print('Count (rows):', view_rdd.count())"
   ]
  },
  {
   "cell_type": "code",
   "execution_count": 13,
   "metadata": {},
   "outputs": [
    {
     "data": {
      "text/plain": [
       "['mso_code ,device_id ,event_date ,event_time,station_num,prog_code']"
      ]
     },
     "execution_count": 13,
     "metadata": {},
     "output_type": "execute_result"
    }
   ],
   "source": [
    "view_rdd.take(1)"
   ]
  },
  {
   "cell_type": "code",
   "execution_count": 14,
   "metadata": {},
   "outputs": [
    {
     "data": {
      "text/plain": [
       "[['mso_code ',\n",
       "  'device_id ',\n",
       "  'event_date ',\n",
       "  'event_time',\n",
       "  'station_num',\n",
       "  'prog_code'],\n",
       " ['1540', '0000000057f6', '20151101', '192440', '11590', 'null']]"
      ]
     },
     "execution_count": 14,
     "metadata": {},
     "output_type": "execute_result"
    }
   ],
   "source": [
    "# Split by comma:\n",
    "csv_rdd = view_rdd.map(lambda row: row.split(','))\n",
    "csv_rdd.take(2)"
   ]
  },
  {
   "cell_type": "code",
   "execution_count": 15,
   "metadata": {},
   "outputs": [
    {
     "name": "stdout",
     "output_type": "stream",
     "text": [
      "['mso_code ', 'device_id ', 'event_date ', 'event_time', 'station_num', 'prog_code']\n"
     ]
    },
    {
     "data": {
      "text/plain": [
       "['1540', '0000000057f6', '20151101', '192440', '11590', 'null']"
      ]
     },
     "execution_count": 15,
     "metadata": {},
     "output_type": "execute_result"
    }
   ],
   "source": [
    "# Split to header and data:\n",
    "header = csv_rdd.first()\n",
    "print(header)\n",
    "data_rdd = csv_rdd.filter(lambda row: row != header)\n",
    "data_rdd.first()"
   ]
  },
  {
   "cell_type": "code",
   "execution_count": 16,
   "metadata": {},
   "outputs": [],
   "source": [
    "#extracting the Data from each row and counting the unique dates\n",
    "date_rdd = data_rdd.map(lambda row: row[2])\n",
    "number_of_days = date_rdd.distinct().count()"
   ]
  },
  {
   "cell_type": "code",
   "execution_count": 17,
   "metadata": {},
   "outputs": [],
   "source": [
    "prime_time_rdd = data_rdd.filter(lambda row: 200000<=int(row[3])<230000).map(lambda row: ((row[1], row[2]), 1))\n",
    "device_day_counts_rdd = prime_time_rdd.reduceByKey(lambda x, y: x+y).map(lambda row: (row[0][0],row[0][1], row[1]))\n",
    "top_5 = device_day_counts_rdd.map(lambda row: (row[0], row[2])).reduceByKey(lambda x, y:x+y).map(lambda row: (row[0], row[1] / number_of_days)).takeOrdered(5, key = lambda row: -row[1])"
   ]
  },
  {
   "cell_type": "code",
   "execution_count": 19,
   "metadata": {},
   "outputs": [
    {
     "name": "stdout",
     "output_type": "stream",
     "text": [
      "Device ID:7.5E+14 ********* Avg:97.64\n",
      "Device ID:7.46E+14 ********* Avg:11.71\n",
      "Device ID:7.503E+14 ********* Avg:9.357\n",
      "Device ID:8.00001E+11 ********* Avg:7.5\n",
      "Device ID:8.4843E+14 ********* Avg:5.5\n"
     ]
    }
   ],
   "source": [
    "for item in top_5:\n",
    "    print(f'Device ID:{item[0]:} ********* Avg:{item[1]:.4}')"
   ]
  },
  {
   "cell_type": "code",
   "execution_count": 20,
   "metadata": {},
   "outputs": [],
   "source": [
    "prime_time_rdd = data_rdd.filter(lambda row: 200000<=int(row[3])<230000).map(lambda row: (row[1], 1))\n",
    "avg_score = prime_time_rdd.reduceByKey(lambda x, y: x+y).map(lambda row: (row[0], row[1]/number_of_days)).takeOrdered(5, key = lambda row: -row[1])"
   ]
  },
  {
   "cell_type": "code",
   "execution_count": 21,
   "metadata": {},
   "outputs": [
    {
     "name": "stdout",
     "output_type": "stream",
     "text": [
      "Device ID:7.5E+14 ********* Avg:97.64\n",
      "Device ID:7.46E+14 ********* Avg:11.71\n",
      "Device ID:7.503E+14 ********* Avg:9.357\n",
      "Device ID:8.00001E+11 ********* Avg:7.5\n",
      "Device ID:8.4843E+14 ********* Avg:5.5\n"
     ]
    }
   ],
   "source": [
    "for item in avg_score:\n",
    "    print(f'Device ID:{item[0]:} ********* Avg:{item[1]:.4}')"
   ]
  },
  {
   "cell_type": "code",
   "execution_count": 21,
   "metadata": {},
   "outputs": [],
   "source": []
  }
 ],
 "metadata": {
  "kernelspec": {
   "display_name": "Python 3 (ipykernel)",
   "language": "python",
   "name": "python3"
  },
  "language_info": {
   "codemirror_mode": {
    "name": "ipython",
    "version": 3
   },
   "file_extension": ".py",
   "mimetype": "text/x-python",
   "name": "python",
   "nbconvert_exporter": "python",
   "pygments_lexer": "ipython3",
   "version": "3.10.10"
  }
 },
 "nbformat": 4,
 "nbformat_minor": 1
}
