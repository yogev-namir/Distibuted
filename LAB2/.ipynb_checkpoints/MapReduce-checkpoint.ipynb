{
 "cells": [
  {
   "cell_type": "code",
   "execution_count": 10,
   "metadata": {},
   "outputs": [
    {
     "name": "stdout",
     "output_type": "stream",
     "text": [
      "Overwriting mr_most_viewd_program.py\n"
     ]
    }
   ],
   "source": [
    "%%file mr_most_viewd_program.py\n",
    "\n",
    "from mrjob.job import MRJob\n",
    "from mrjob.step import MRStep\n",
    "import re\n",
    "\n",
    "PROGRAM_RE = re.compile(r'[a-zA-Z0-9]+$')\n",
    "\n",
    "class MRMostViewdProgram(MRJob):\n",
    "    def steps(self):\n",
    "        return [\n",
    "            MRStep(mapper=self.mapper_get_prog,\n",
    "                   combiner=self.combiner_count_prog,\n",
    "                   reducer=self.reducer_count_prog),\n",
    "            MRStep(reducer=self.reduce_find_max_prog)\n",
    "        ]\n",
    "    def mapper_get_prog(self, _,line):\n",
    "        cols = line.strip().split(',')\n",
    "        event_time, station_num, prog_code = cols[3:6]\n",
    "        try:\n",
    "            time_hours = int(event_time[:2])\n",
    "        except ValueError:\n",
    "            # skip lines with invalid time strings\n",
    "            return\n",
    "        if 20 <= time_hours < 23:\n",
    "            if int(station_num) % 2 == 0:\n",
    "                yield prog_code, 1\n",
    "\n",
    "\n",
    "    def combiner_count_prog(self, prog, counts):\n",
    "        # sum the program code we've seen so far\n",
    "        yield (prog, sum(counts))\n",
    "\n",
    "    def reducer_count_prog(selfself, prog, counts):\n",
    "        yield None, (sum(counts), prog)\n",
    "\n",
    "    def reduce_find_max_prog(self, _, prog_count_pairs):\n",
    "        yield max(prog_count_pairs)\n",
    "\n",
    "if __name__ == '__main__':\n",
    "    MRMostViewdProgram.run()"
   ]
  },
  {
   "cell_type": "code",
   "execution_count": 11,
   "metadata": {},
   "outputs": [
    {
     "name": "stderr",
     "output_type": "stream",
     "text": [
      "No configs found; falling back on auto-configuration\n",
      "No configs specified for inline runner\n",
      "Creating temp directory C:\\Users\\yogev\\AppData\\Local\\Temp\\mr_most_viewd_program.yogev.20230423.131627.154415\n",
      "Running step 1 of 2...\n",
      "Running step 2 of 2...\n",
      "job output is in C:\\Users\\yogev\\AppData\\Local\\Temp\\mr_most_viewd_program.yogev.20230423.131627.154415\\output\n",
      "Streaming final output from C:\\Users\\yogev\\AppData\\Local\\Temp\\mr_most_viewd_program.yogev.20230423.131627.154415\\output...\n",
      "Removing temp directory C:\\Users\\yogev\\AppData\\Local\\Temp\\mr_most_viewd_program.yogev.20230423.131627.154415...\n"
     ]
    }
   ],
   "source": [
    "! python mr_most_viewd_program.py 10k_view_data.csv > output.txt"
   ]
  },
  {
   "cell_type": "code",
   "execution_count": 12,
   "metadata": {},
   "outputs": [
    {
     "name": "stdout",
     "output_type": "stream",
     "text": [
      "181\t\"SP003189730000\"\n",
      "\n"
     ]
    }
   ],
   "source": [
    "output = open('output.txt')\n",
    "for line in output:\n",
    "    print(line)"
   ]
  }
 ],
 "metadata": {
  "kernelspec": {
   "display_name": "Python 3 (ipykernel)",
   "language": "python",
   "name": "python3"
  },
  "language_info": {
   "codemirror_mode": {
    "name": "ipython",
    "version": 3
   },
   "file_extension": ".py",
   "mimetype": "text/x-python",
   "name": "python",
   "nbconvert_exporter": "python",
   "pygments_lexer": "ipython3",
   "version": "3.9.13"
  }
 },
 "nbformat": 4,
 "nbformat_minor": 1
}
